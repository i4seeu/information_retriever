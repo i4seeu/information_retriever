{
 "cells": [
  {
   "cell_type": "code",
   "execution_count": 3,
   "metadata": {},
   "outputs": [],
   "source": [
    "\n",
    "def longest_palindrome(s: str) -> str:\n",
    "    if not s:\n",
    "        return \"\"\n",
    "    max_pal = \"\"\n",
    "\n",
    "    for i in range(len(s)):\n",
    "        for j in range(i, len(s)):\n",
    "            current_substring = s[i:j]\n",
    "            \n",
    "            if current_substring == current_substring[::-1] and len(current_substring) > len(max_pal):\n",
    "                max_pal = current_substring\n",
    "    \n",
    "    return max_pal\n"
   ]
  },
  {
   "cell_type": "code",
   "execution_count": 4,
   "metadata": {},
   "outputs": [],
   "source": [
    "def longest_palindrome2(s: str) -> str:\n",
    "    if not s:\n",
    "        return \"\"\n",
    "\n",
    "    start, end = 0, 0\n",
    "    \n",
    "    for i in range(len(s)):\n",
    "        left1, right1 = expand_around_center(s, i, i)\n",
    "        left2, right2 = expand_around_center(s, i, i + 1)\n",
    "        \n",
    "        if right1 - left1 > end - start:\n",
    "            start, end = left1, right1\n",
    "        \n",
    "        if right2 - left2 > end - start:\n",
    "            start, end = left2, right2\n",
    "    \n",
    "    return s[start:end + 1]\n",
    "\n",
    "def expand_around_center(s: str, left: int, right: int) -> (int, int):\n",
    "    while left >= 0 and right < len(s) and s[left] == s[right]:\n",
    "        left -= 1\n",
    "        right += 1\n",
    "    return left + 1, right - 1\n"
   ]
  },
  {
   "cell_type": "code",
   "execution_count": 7,
   "metadata": {},
   "outputs": [
    {
     "data": {
      "text/plain": [
       "'ada'"
      ]
     },
     "execution_count": 7,
     "metadata": {},
     "output_type": "execute_result"
    }
   ],
   "source": [
    "longest_palindrome(\"madam\")"
   ]
  },
  {
   "cell_type": "code",
   "execution_count": 8,
   "metadata": {},
   "outputs": [
    {
     "data": {
      "text/plain": [
       "'madam'"
      ]
     },
     "execution_count": 8,
     "metadata": {},
     "output_type": "execute_result"
    }
   ],
   "source": [
    "longest_palindrome2(\"madam\")"
   ]
  },
  {
   "cell_type": "code",
   "execution_count": null,
   "metadata": {},
   "outputs": [],
   "source": []
  }
 ],
 "metadata": {
  "kernelspec": {
   "display_name": "pmra_env",
   "language": "python",
   "name": "python3"
  },
  "language_info": {
   "codemirror_mode": {
    "name": "ipython",
    "version": 3
   },
   "file_extension": ".py",
   "mimetype": "text/x-python",
   "name": "python",
   "nbconvert_exporter": "python",
   "pygments_lexer": "ipython3",
   "version": "3.11.3"
  }
 },
 "nbformat": 4,
 "nbformat_minor": 2
}
